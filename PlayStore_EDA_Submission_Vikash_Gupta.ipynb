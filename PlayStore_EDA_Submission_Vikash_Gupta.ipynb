{
  "nbformat": 4,
  "nbformat_minor": 0,
  "metadata": {
    "colab": {
      "private_outputs": true,
      "provenance": [],
      "include_colab_link": true
    },
    "kernelspec": {
      "name": "python3",
      "display_name": "Python 3"
    },
    "language_info": {
      "name": "python"
    }
  },
  "cells": [
    {
      "cell_type": "markdown",
      "metadata": {
        "id": "view-in-github",
        "colab_type": "text"
      },
      "source": [
        "<a href=\"https://colab.research.google.com/github/Vikgta/PlayStore-Exploratory-Data-Analysis/blob/main/PlayStore_EDA_Submission_Vikash_Gupta.ipynb\" target=\"_parent\"><img src=\"https://colab.research.google.com/assets/colab-badge.svg\" alt=\"Open In Colab\"/></a>"
      ]
    },
    {
      "cell_type": "markdown",
      "source": [
        "# **Project Name**    -\n",
        "\n"
      ],
      "metadata": {
        "id": "vncDsAP0Gaoa"
      }
    },
    {
      "cell_type": "markdown",
      "source": [
        "##### **Project Type**    - EDA\n",
        "##### **Contribution**    - Individual\n",
        "\n"
      ],
      "metadata": {
        "id": "beRrZCGUAJYm"
      }
    },
    {
      "cell_type": "markdown",
      "source": [
        "# **Project Summary -**"
      ],
      "metadata": {
        "id": "FJNUwmbgGyua"
      }
    },
    {
      "cell_type": "markdown",
      "source": [
        "* With 2.5 billion active users, Android stands as the most popular operating system, commanding about 85% of the mobile device market. Google's OS dominates the landscape, and its largest app repository, the Google Play Store, remains a cornerstone for Android users.\n",
        "\n",
        "* The extensive data housed in the Play Store offers significant potential to propel app-centric businesses to success. Developers can extract actionable insights from this treasure trove of information, enabling them to tailor their strategies and conquer the expansive Android market.\n",
        "\n",
        "* The primary objective of our project was to meticulously gather and analyze comprehensive data on Google Play Store apps. The aim was to furnish insights into app features and present an accurate snapshot of the current state of the Android app ecosystem.\n",
        "\n",
        "* The project's goal was to explore and scrutinize data, identifying pivotal factors influencing app engagement. The objective was to recommend optimal features that would pave the way for app success in the dynamic Android landscape.\n",
        "\n",
        "* Our exploration delved into understanding relationships between various attributes, such as the app's pricing model (free or paid), user reviews, and overall ratings. The dataset provided encompasses details like Category, Review, Rating, Size, etc., spanning across 10,841 rows and 13 columns."
      ],
      "metadata": {
        "id": "F6v_1wHtG2nS"
      }
    },
    {
      "cell_type": "markdown",
      "source": [
        "# **GitHub Link -**"
      ],
      "metadata": {
        "id": "w6K7xa23Elo4"
      }
    },
    {
      "cell_type": "markdown",
      "source": [
        "[Link to GitHub](https://github.com/Vikgta/PlayStore-Exploratory-Data-Analysis)"
      ],
      "metadata": {
        "id": "h1o69JH3Eqqn"
      }
    },
    {
      "cell_type": "markdown",
      "source": [
        "# **Problem Statement**\n"
      ],
      "metadata": {
        "id": "yQaldy8SH6Dl"
      }
    },
    {
      "cell_type": "markdown",
      "source": [
        "Android, currently holding a substantial 74% of the market share, is a rapidly expanding operating system, reflecting its widespread adoption among a large portion of the population. Our objective is to assist Android developers in understanding the key drivers behind app downloads. We aim to uncover the factors influencing users' decisions to download an app, focusing on categories, reviews, pricing, ratings, and installations. By analyzing the interrelationships among these variables, we aim to provide valuable insights.\n",
        "\n",
        "To address these goals, we have formulated several problem statements that will guide our analysis of the given dataset:\n",
        "\n",
        "1.Category Installations:\n",
        "\n",
        "* Determine which app category boasts the highest number of installations.\n",
        "2.Top 5 Most Installed Apps:\n",
        "\n",
        "* Identify and list the top 5 apps with the maximum number of installations.\n",
        "3.Top 5 Apps with Low Installations:\n",
        "\n",
        "* Identify and list the top 5 apps with the lowest installation numbers, highlighting areas for improvement.\n",
        "4.Importance of Ratings:\n",
        "\n",
        "* Explore and analyze the significance of ratings for applications. Understand how user ratings impact an app's success.\n",
        "5.Top Categories on the Play Store:\n",
        "\n",
        "* Identify the top categories that dominate the Google Play Store in terms of the number of apps and installations.\n",
        "6.Free vs. Paid Apps:\n",
        "\n",
        "* Determine the distribution of apps in terms of being free or paid. Understand the user preference for free or paid applications.\n",
        "\n",
        "By addressing these problem statements, we aim to provide actionable insights for Android developers, enabling them to make informed decisions regarding app development, marketing, and user engagement strategies."
      ],
      "metadata": {
        "id": "DpeJGUA3kjGy"
      }
    },
    {
      "cell_type": "markdown",
      "source": [
        "#### **Define Your Business Objective?**"
      ],
      "metadata": {
        "id": "PH-0ReGfmX4f"
      }
    },
    {
      "cell_type": "markdown",
      "source": [
        "* The objective of my analysis is to provide insights about android applications and their categories.\n",
        "* To deep dive in data for the factors of influences on an application, to know why and how certain applications succeed and others.\n",
        "* Finds the key Factor that are responsible for app engagement.\n",
        "* Study the detailed information of app and analyse them.\n",
        "* Finds which attributes are most important for application.\n",
        "* Also, what is required for an application to be considered as successfully topping the charts."
      ],
      "metadata": {
        "id": "PhDvGCAqmjP1"
      }
    },
    {
      "cell_type": "markdown",
      "source": [
        "# **General Guidelines** : -  "
      ],
      "metadata": {
        "id": "mDgbUHAGgjLW"
      }
    },
    {
      "cell_type": "markdown",
      "source": [
        "1.   Well-structured, formatted, and commented code is required.\n",
        "2.   Exception Handling, Production Grade Code & Deployment Ready Code will be a plus. Those students will be awarded some additional credits.\n",
        "     \n",
        "     The additional credits will have advantages over other students during Star Student selection.\n",
        "       \n",
        "             [ Note: - Deployment Ready Code is defined as, the whole .ipynb notebook should be executable in one go\n",
        "                       without a single error logged. ]\n",
        "\n",
        "3.   Each and every logic should have proper comments.\n",
        "4. You may add as many number of charts you want. Make Sure for each and every chart the following format should be answered.\n",
        "        \n",
        "\n",
        "```\n",
        "# Chart visualization code\n",
        "```\n",
        "            \n",
        "\n",
        "*   Why did you pick the specific chart?\n",
        "*   What is/are the insight(s) found from the chart?\n",
        "* Will the gained insights help creating a positive business impact?\n",
        "Are there any insights that lead to negative growth? Justify with specific reason.\n",
        "\n",
        "5. You have to create at least 20 logical & meaningful charts having important insights.\n",
        "\n",
        "\n",
        "[ Hints : - Do the Vizualization in  a structured way while following \"UBM\" Rule.\n",
        "\n",
        "U - Univariate Analysis,\n",
        "\n",
        "B - Bivariate Analysis (Numerical - Categorical, Numerical - Numerical, Categorical - Categorical)\n",
        "\n",
        "M - Multivariate Analysis\n",
        " ]\n",
        "\n",
        "\n",
        "\n"
      ],
      "metadata": {
        "id": "ZrxVaUj-hHfC"
      }
    },
    {
      "cell_type": "markdown",
      "source": [
        "# ***Let's Begin !***"
      ],
      "metadata": {
        "id": "O_i_v8NEhb9l"
      }
    },
    {
      "cell_type": "markdown",
      "source": [
        "## ***1. Know Your Data***"
      ],
      "metadata": {
        "id": "HhfV-JJviCcP"
      }
    },
    {
      "cell_type": "markdown",
      "source": [
        "### Import Libraries"
      ],
      "metadata": {
        "id": "Y3lxredqlCYt"
      }
    },
    {
      "cell_type": "code",
      "source": [
        "# Import Libraries\n",
        "import numpy as np\n",
        "import pandas as pd\n",
        "import seaborn as sns\n",
        "import matplotlib.pyplot as plt\n",
        "import warnings\n",
        "warnings.filterwarnings('ignore')\n",
        "import missingno as msno   #library to identify the missing values/numbers\n",
        "\n",
        "#setting font size throughout the notebook\n",
        "plt.rcParams.update({'font.size': 14})\n",
        "\n",
        "%matplotlib inline\n",
        "#to keep the graph visible even after the disconnect"
      ],
      "metadata": {
        "id": "M8Vqi-pPk-HR"
      },
      "execution_count": null,
      "outputs": []
    },
    {
      "cell_type": "markdown",
      "source": [
        "### Dataset Loading"
      ],
      "metadata": {
        "id": "3RnN4peoiCZX"
      }
    },
    {
      "cell_type": "code",
      "source": [
        "# Load Dataset\n",
        "# Mounting drive\n",
        "from google.colab import drive\n",
        "drive.mount('/content/drive')\n",
        "\n",
        "\n",
        "# reading data file\n",
        "dir_path = '/content/drive/MyDrive/Colab Notebooks/'\n",
        "file_name = 'Play Store Data.csv'\n",
        "playstore_file_path = dir_path + file_name\n",
        "df = pd.read_csv(playstore_file_path)"
      ],
      "metadata": {
        "id": "4CkvbW_SlZ_R"
      },
      "execution_count": null,
      "outputs": []
    },
    {
      "cell_type": "markdown",
      "source": [
        "### Dataset First View"
      ],
      "metadata": {
        "id": "x71ZqKXriCWQ"
      }
    },
    {
      "cell_type": "code",
      "source": [
        "# Dataset First Look\n",
        "df.head(5)"
      ],
      "metadata": {
        "id": "LWNFOSvLl09H"
      },
      "execution_count": null,
      "outputs": []
    },
    {
      "cell_type": "markdown",
      "source": [
        "### Dataset Rows & Columns count"
      ],
      "metadata": {
        "id": "7hBIi_osiCS2"
      }
    },
    {
      "cell_type": "code",
      "source": [
        "# Dataset Rows & Columns count\n",
        "df.shape\n",
        "#we see that the data has 10841 rows and 13 columns"
      ],
      "metadata": {
        "id": "Kllu7SJgmLij"
      },
      "execution_count": null,
      "outputs": []
    },
    {
      "cell_type": "markdown",
      "source": [
        "### Dataset Information"
      ],
      "metadata": {
        "id": "JlHwYmJAmNHm"
      }
    },
    {
      "cell_type": "code",
      "source": [
        "# Dataset Info\n",
        "df.info()"
      ],
      "metadata": {
        "id": "e9hRXRi6meOf"
      },
      "execution_count": null,
      "outputs": []
    },
    {
      "cell_type": "markdown",
      "source": [
        "we see that except ratings other values are of object type, so we need to evalvulate the fields with respect to there values such as int or other respective column type.\n"
      ],
      "metadata": {
        "id": "uKbQKQkwHzjd"
      }
    },
    {
      "cell_type": "markdown",
      "source": [
        "#### Duplicate Values"
      ],
      "metadata": {
        "id": "35m5QtbWiB9F"
      }
    },
    {
      "cell_type": "code",
      "source": [
        "# Dataset Duplicate Value Count\n",
        "dup = df.duplicated().sum()\n",
        "print(dup)"
      ],
      "metadata": {
        "id": "1sLdpKYkmox0"
      },
      "execution_count": null,
      "outputs": []
    },
    {
      "cell_type": "markdown",
      "source": [
        "When we see duplicate counts we found 483 duplicate values"
      ],
      "metadata": {
        "id": "clx6J3XgIBMX"
      }
    },
    {
      "cell_type": "markdown",
      "source": [
        "#### Missing Values/Null Values"
      ],
      "metadata": {
        "id": "PoPl-ycgm1ru"
      }
    },
    {
      "cell_type": "code",
      "source": [
        "# Missing Values/Null Values Count\n",
        "missing_values = df.isna().sum()\n",
        "print(missing_values)"
      ],
      "metadata": {
        "id": "GgHWkxvamxVg"
      },
      "execution_count": null,
      "outputs": []
    },
    {
      "cell_type": "code",
      "source": [
        "# Visualizing the missing values\n",
        "msno.matrix(df)"
      ],
      "metadata": {
        "id": "3q5wnI3om9sJ"
      },
      "execution_count": null,
      "outputs": []
    },
    {
      "cell_type": "markdown",
      "source": [
        "### What did you know about your dataset?"
      ],
      "metadata": {
        "id": "H0kj-8xxnORC"
      }
    },
    {
      "cell_type": "markdown",
      "source": [
        "we see that **except ratings other values are of object type,** so we need to evalvulate the fields with respect to there values such as int or other respective column type.\n",
        "\n",
        "**the following are the counts for null values.**\n",
        "\n",
        "*    Rating:            1474\n",
        "*   Type:                 1\n",
        "*   Content Rating:       1\n",
        "*   Current Ver:          8\n",
        "*   Android Ver:  3\n",
        "\n",
        "**The following columns are listed in the dataframe**\n",
        "\n",
        "1.   App : indicates the name of the apps (this column has duplicate values in the rows)\n",
        "2.   Category : this indicates the various categories of the apps\n",
        "3.   Rating: this indicates the ratings recieved by the respective apps\n",
        "4. Reviews: this indicates the number or reviews recieved by the app\n",
        "5. Size :indicates the size of the app\n",
        "6. Installs: indicates the number of installs of the respective app\n",
        "7. Type: Shows the type of the app which is free or paid\n",
        "8. Price: this field shows the price of the fields, 0 for free and amount if paid\n",
        "9. Content Rating:shows the targated audiance of the app and what type of audiance has reviewed the app\n",
        "10. Genres: shows the Genre of the app, (same as category)\n",
        "11. Last Updated: shows the latest date of the app that has updated\n",
        "12. Current Ver: shows the latest version of the app\n",
        "13. Androaid Ver: shows the version of android which can support the given app"
      ],
      "metadata": {
        "id": "gfoNAAC-nUe_"
      }
    },
    {
      "cell_type": "markdown",
      "source": [
        "## ***2. Understanding Your Variables***"
      ],
      "metadata": {
        "id": "nA9Y7ga8ng1Z"
      }
    },
    {
      "cell_type": "code",
      "source": [
        "# Dataset Columns\n",
        "df.columns"
      ],
      "metadata": {
        "id": "j7xfkqrt5Ag5"
      },
      "execution_count": null,
      "outputs": []
    },
    {
      "cell_type": "code",
      "source": [
        "# Dataset Describe\n",
        "print('data Describe')\n",
        "print('-'*30)\n",
        "print(df.describe())\n",
        "print('-'*30)\n",
        "print('data info')\n",
        "print('-'*30)\n",
        "print(df.info())"
      ],
      "metadata": {
        "id": "DnOaZdaE5Q5t"
      },
      "execution_count": null,
      "outputs": []
    },
    {
      "cell_type": "markdown",
      "source": [
        "### Variables Description"
      ],
      "metadata": {
        "id": "PBTbrJXOngz2"
      }
    },
    {
      "cell_type": "markdown",
      "source": [
        "the following columns are listed in the dataframe\n",
        "\n",
        "1.   App : indicates the name of the apps (this column has duplicate values in the rows)\n",
        "2.   Category : this indicates the various categories of the apps\n",
        "3.   Rating: this indicates the ratings recieved by the respective apps\n",
        "4. Reviews: this indicates the number or reviews recieved by the app\n",
        "5. Size :indicates the size of the app\n",
        "6. Installs: indicates the number of installs of the respective app\n",
        "7. Type: Shows the type of the app which is free or paid\n",
        "8. Price: this field shows the price of the fields, 0 for free and amount if paid\n",
        "9. Content Rating:shows the targated audiance of the app and what type of audiance has reviewed the app\n",
        "10. Genres: shows the Genre of the app, (same as category)\n",
        "11. Last Updated: shows the latest date of the app that has updated\n",
        "12. Current Ver: shows the latest version of the app\n",
        "13. Androaid Ver: shows the version of android which can support the given app"
      ],
      "metadata": {
        "id": "aJV4KIxSnxay"
      }
    },
    {
      "cell_type": "markdown",
      "source": [
        "### Check Unique Values for each variable."
      ],
      "metadata": {
        "id": "u3PMJOP6ngxN"
      }
    },
    {
      "cell_type": "code",
      "source": [
        "# Check Unique Values for each variable.\n",
        "for column in df.columns:\n",
        "  res = len(df[column].unique())\n",
        "  print(f\"The number of variables in {column} column are: {res}\")"
      ],
      "metadata": {
        "id": "zms12Yq5n-jE"
      },
      "execution_count": null,
      "outputs": []
    },
    {
      "cell_type": "markdown",
      "source": [
        "## 3. ***Data Wrangling***"
      ],
      "metadata": {
        "id": "dauF4eBmngu3"
      }
    },
    {
      "cell_type": "markdown",
      "source": [
        "### Data Wrangling Code"
      ],
      "metadata": {
        "id": "bKJF3rekwFvQ"
      }
    },
    {
      "cell_type": "code",
      "source": [
        "# Write your code to make your dataset analysis ready.\n",
        "#creating one funtion that can evaluate Price, Installs, Size and Reviews\n",
        "def convert_int(x):\n",
        "  ''' this function takes the object and removes ',' + , M, k, $ returns it\n",
        "  after evaluating by the function eval\n",
        "  '''\n",
        "  if x.isdigit():         # Checking if the object is alread integer to and converting it before iterating if loops for making the function more optimised\n",
        "      return eval(x)\n",
        "  else:\n",
        "      if ',' in x:          #writing series of if condition to reduce the operations complexity on the objects\n",
        "        x=x.replace(',','')\n",
        "      if '+' in x:          #this occurs in installs colum, so we are removing the same to have a proper int format\n",
        "        x=x.replace('+','')\n",
        "      if 'M' in x:\n",
        "        x=x.replace('M','')        # since this value occurs in Size we are converting Millions to int format by adding 6 zeros to the same\n",
        "        x= eval(x)\n",
        "        x = x * 10**6\n",
        "        return x\n",
        "        # x=x.replace('M','')\n",
        "      if 'k' in x:          # since this value occurs in Size we are converting Kilo to int format by adding 3 zeros to the same\n",
        "        x=x.replace('k','')\n",
        "        x = eval(x)\n",
        "        x= x * 10**3\n",
        "        return x\n",
        "        # x=x.replace('k','')\n",
        "      if '$' in x:\n",
        "        x=x.replace('$','') #this occurs in price column, so we are taking out the $ symbol\n",
        "      if x=='Free' or x=='Varies with device'or x=='Everyone':    #there are some columns entered with missplaced values, setting them to zero.\n",
        "        x=0\n",
        "      else:\n",
        "        x= eval(x)\n",
        "\n",
        "      return x\n",
        "\n",
        "\n",
        "      # return x\n"
      ],
      "metadata": {
        "id": "wk-9a2fpoLcV"
      },
      "execution_count": null,
      "outputs": []
    },
    {
      "cell_type": "code",
      "source": [
        "df['Reviews'] = df['Reviews'].apply(convert_int)\n",
        "df['Size'] = df['Size'].apply(convert_int)\n",
        "df['Installs'] = df['Installs'].apply(convert_int)\n",
        "df['Price'] = df['Price'].apply(convert_int)"
      ],
      "metadata": {
        "id": "p-i_s-_8TTSF"
      },
      "execution_count": null,
      "outputs": []
    },
    {
      "cell_type": "markdown",
      "source": [
        "### What all manipulations have you done and insights you found?"
      ],
      "metadata": {
        "id": "MSa1f5Uengrz"
      }
    },
    {
      "cell_type": "markdown",
      "source": [
        "After doing various analysis accross apps, the following manipulations are done"
      ],
      "metadata": {
        "id": "LbyXE7I1olp8"
      }
    },
    {
      "cell_type": "code",
      "source": [
        "# we see that there is one rating value that is 19 which could be human error, this may affect the median value in further steps, so we set it as 1.9.\n",
        "df.loc[df['Rating'] == 19, 'Rating'] = 1.9"
      ],
      "metadata": {
        "id": "Eh7SUbl3TzZz"
      },
      "execution_count": null,
      "outputs": []
    },
    {
      "cell_type": "code",
      "source": [
        "x = df.Rating.unique()\n",
        "x.sort()\n",
        "print(x)"
      ],
      "metadata": {
        "id": "dtcNBL42TzWV"
      },
      "execution_count": null,
      "outputs": []
    },
    {
      "cell_type": "code",
      "source": [
        "# We see that some values in category has underscores in it, so we are replacing the underscore with space\n",
        "def remove_underscores(x):\n",
        "  if '_' in x:\n",
        "    x = x.replace('_', ' ')\n",
        "  return x"
      ],
      "metadata": {
        "id": "NVjEObWhUGPN"
      },
      "execution_count": null,
      "outputs": []
    },
    {
      "cell_type": "code",
      "source": [
        "# applying 'remove_underscores' function on category column\n",
        "\n",
        "df['Category'] = df['Category'].apply(remove_underscores)"
      ],
      "metadata": {
        "id": "KirJJoLfUYTP"
      },
      "execution_count": null,
      "outputs": []
    },
    {
      "cell_type": "code",
      "source": [
        "# finding null values\n",
        "df.isna().sum()"
      ],
      "metadata": {
        "id": "NVePnpmlUqky"
      },
      "execution_count": null,
      "outputs": []
    },
    {
      "cell_type": "markdown",
      "source": [
        "e see that the following are null values.\n",
        "\n",
        "*    Rating:            1474\n",
        "*   Type:                 1\n",
        "*   Content Rating:       1\n",
        "*   Current Ver:          8\n",
        "*   Android Ver:  3\n"
      ],
      "metadata": {
        "id": "ffQrL1m5VTqM"
      }
    },
    {
      "cell_type": "markdown",
      "source": [
        "since there are many values in ratings that can be replaced with median values"
      ],
      "metadata": {
        "id": "TyVuNABDVZ6e"
      }
    },
    {
      "cell_type": "code",
      "source": [
        "#By ploting distribution plot we can choose between mean amd median.\n",
        "plt.title('Distribution plot of Rating Feature')\n",
        "\n",
        "sns.histplot(df['Rating'],kde = True)"
      ],
      "metadata": {
        "id": "vLa0oBG-VnME"
      },
      "execution_count": null,
      "outputs": []
    },
    {
      "cell_type": "code",
      "source": [
        "# In this case we use median to have A Normal Distribution\n",
        "median_value_for_ratings = df['Rating'].median()\n",
        "median_value_for_ratings = round(median_value_for_ratings, 2)\n",
        "df['Rating'] = df['Rating'].fillna(median_value_for_ratings)\n",
        "print(f'the values for null us updated as {median_value_for_ratings}')"
      ],
      "metadata": {
        "id": "_fAy7pjYXRsz"
      },
      "execution_count": null,
      "outputs": []
    },
    {
      "cell_type": "code",
      "source": [
        "# since the other values are minum null values, we drop them\n",
        "df = df.dropna(subset = ['Type', 'Content Rating', 'Current Ver', 'Android Ver'])"
      ],
      "metadata": {
        "id": "hj_OzaxTZqOA"
      },
      "execution_count": null,
      "outputs": []
    },
    {
      "cell_type": "code",
      "source": [
        "# Dataset Duplicate Value Count\n",
        "dup = df['App'].duplicated().sum()\n",
        "print(dup)"
      ],
      "metadata": {
        "id": "XErp18RcZ5DV"
      },
      "execution_count": null,
      "outputs": []
    },
    {
      "cell_type": "markdown",
      "source": [
        "we see that there are 1181 duplicated rows in app names colums, so we are keeping the first and dropping the remaing"
      ],
      "metadata": {
        "id": "tkZ48FNhaKYI"
      }
    },
    {
      "cell_type": "code",
      "source": [
        "#we see that there are duplicate names off apps in apps column, so dropping duplicates and keeping first\n",
        "df = df.drop_duplicates(subset=['App'],keep=\"first\")"
      ],
      "metadata": {
        "id": "cJPT3EY9BJy2"
      },
      "execution_count": null,
      "outputs": []
    },
    {
      "cell_type": "markdown",
      "source": [
        "## Summary of data Manipulation"
      ],
      "metadata": {
        "id": "XbPqo2MiagPz"
      }
    },
    {
      "cell_type": "markdown",
      "source": [
        "* Rating had 1474 null values which contributes 13.60% of the data so the null values are replaced by median ie 4.3\n",
        "* the following null values are dropped\n",
        ">* Type had 1 null value which contributes 0.01% of the data.\n",
        ">* Content Rating had 1 null value which contributes 0.01% of the data.\n",
        ">* Current Ver had 8 null values which contributes 0.07% of the data.\n",
        ">* Android Ver had 3 null values which contributes 0.03% of the data."
      ],
      "metadata": {
        "id": "jlGhjvQ17fcj"
      }
    },
    {
      "cell_type": "markdown",
      "source": [
        "The following actions are taken\n",
        "1. Removed Outliers from Rating column.\n",
        "2. Removed underscore from Required columns.\n",
        "3. Converted the Data types from object to int or float.\n",
        "4. Handling the missing value.\n",
        "5. Solving the Structural Error.\n"
      ],
      "metadata": {
        "id": "n1RbeKNO8C4_"
      }
    },
    {
      "cell_type": "markdown",
      "source": [
        "### after data cleaning and manipulation, we are now again analysing the data for understanig if all the discrepancies are gone"
      ],
      "metadata": {
        "id": "-6LSTPd28AiS"
      }
    },
    {
      "cell_type": "code",
      "source": [
        "df.info()"
      ],
      "metadata": {
        "id": "dnK9C3Wm8WeO"
      },
      "execution_count": null,
      "outputs": []
    },
    {
      "cell_type": "code",
      "source": [
        "df.describe()"
      ],
      "metadata": {
        "id": "4t7SFuK48j7b"
      },
      "execution_count": null,
      "outputs": []
    },
    {
      "cell_type": "code",
      "source": [
        "df.head()"
      ],
      "metadata": {
        "id": "8QOl2knX8ss1"
      },
      "execution_count": null,
      "outputs": []
    },
    {
      "cell_type": "markdown",
      "source": [
        "## ***4. Data Vizualization, Storytelling & Experimenting with charts : Understand the relationships between variables***"
      ],
      "metadata": {
        "id": "GF8Ens_Soomf"
      }
    },
    {
      "cell_type": "markdown",
      "source": [
        "### Chart - 1\n",
        "Comparision of users using paid app and free app\n"
      ],
      "metadata": {
        "id": "0wOQAZs5pc--"
      }
    },
    {
      "cell_type": "code",
      "source": [
        "# Chart - 1 visualization code\n",
        "# application type distribution\n",
        "#Here we use pie plot\n",
        "fig, ax = plt.subplots(figsize=(5, 5), subplot_kw=dict(aspect=\"equal\"))\n",
        "number_of_apps = df['Type'].value_counts()\n",
        "labels = number_of_apps.index\n",
        "sizes = number_of_apps.values\n",
        "\n",
        "# plotting the same\n",
        "ax.pie(sizes, labeldistance=2,autopct='%1.1f%%')\n",
        "ax.legend(labels=labels,loc=\"right\",bbox_to_anchor=(0.9, 0, 0.5, 1))\n",
        "ax.axis(\"equal\")\n",
        "plt.title('Type Distribution')\n",
        "# plt.show()\n"
      ],
      "metadata": {
        "id": "7v_ESjsspbW7"
      },
      "execution_count": null,
      "outputs": []
    },
    {
      "cell_type": "markdown",
      "source": [
        "##### 1. Why did you pick the specific chart?"
      ],
      "metadata": {
        "id": "K5QZ13OEpz2H"
      }
    },
    {
      "cell_type": "markdown",
      "source": [
        "A pieplot shares the distribution of apps by their type(free or paid) very clearly."
      ],
      "metadata": {
        "id": "XESiWehPqBRc"
      }
    },
    {
      "cell_type": "markdown",
      "source": [
        "##### 2. What is/are the insight(s) found from the chart?"
      ],
      "metadata": {
        "id": "lQ7QKXXCp7Bj"
      }
    },
    {
      "cell_type": "markdown",
      "source": [
        "We see that the total number of apps which are paid are 7.8% and rest are free."
      ],
      "metadata": {
        "id": "C_j1G7yiqdRP"
      }
    },
    {
      "cell_type": "markdown",
      "source": [
        "##### 3. Will the gained insights help creating a positive business impact?\n",
        "Are there any insights that lead to negative growth? Justify with specific reason."
      ],
      "metadata": {
        "id": "448CDAPjqfQr"
      }
    },
    {
      "cell_type": "markdown",
      "source": [
        "It is observed that the majority of apps that are publised are free to use and very less number of apps are paid"
      ],
      "metadata": {
        "id": "3cspy4FjqxJW"
      }
    },
    {
      "cell_type": "markdown",
      "source": [
        "#### Chart - 2\n",
        "### Chart - 2  \n",
        "Lowest rating for the apps with respect to categories"
      ],
      "metadata": {
        "id": "KSlN3yHqYklG"
      }
    },
    {
      "cell_type": "code",
      "source": [
        "# Chart - 2 visualization code\n",
        "# heights ratings with respect to category\n",
        "category_avg_ratings = df.groupby('Category')['Rating'].min().sort_values(ascending = False)\n",
        "\n",
        "# plotting\n",
        "plt.rcParams['figure.figsize'] = (20, 5)\n",
        "plt.bar(category_avg_ratings.index, category_avg_ratings.values)\n",
        "plt.title('Minimum ratings of apps by Category')\n",
        "plt.xlabel('Category')\n",
        "plt.ylabel('Rating')\n",
        "plt.xticks(rotation=90)\n",
        "\n",
        "plt.show()"
      ],
      "metadata": {
        "id": "R4YgtaqtYklH"
      },
      "execution_count": null,
      "outputs": []
    },
    {
      "cell_type": "markdown",
      "source": [
        "##### 1. Why did you pick the specific chart?"
      ],
      "metadata": {
        "id": "t6dVpIINYklI"
      }
    },
    {
      "cell_type": "markdown",
      "source": [
        "we are ploting minimum values against each category, so Bar chart would be best suited for the visualization to understand which category has lowest raitings and which has highest"
      ],
      "metadata": {
        "id": "5aaW0BYyYklI"
      }
    },
    {
      "cell_type": "markdown",
      "source": [
        "##### 2. What is/are the insight(s) found from the chart?"
      ],
      "metadata": {
        "id": "ijmpgYnKYklI"
      }
    },
    {
      "cell_type": "markdown",
      "source": [
        "We see that there are apps in the category that has lowest raiting and through this we can identify the category in which we can work on by exceptionally making a better app."
      ],
      "metadata": {
        "id": "PSx9atu2YklI"
      }
    },
    {
      "cell_type": "markdown",
      "source": [
        "##### 3. Will the gained insights help creating a positive business impact?\n",
        "Are there any insights that lead to negative growth? Justify with specific reason."
      ],
      "metadata": {
        "id": "-JiQyfWJYklI"
      }
    },
    {
      "cell_type": "markdown",
      "source": [
        "As a result we can see that there are many apps with lowest raiting and we have hope or chance to bring a better app to the market."
      ],
      "metadata": {
        "id": "BcBbebzrYklV"
      }
    },
    {
      "cell_type": "markdown",
      "source": [
        "### Chart - 3\n",
        "Free Vs Paid apps with respect to categories"
      ],
      "metadata": {
        "id": "EM7whBJCYoAo"
      }
    },
    {
      "cell_type": "code",
      "source": [
        "# Chart - 3 visualization code\n",
        "category_price_counts = df.groupby(['Category', 'Type']).size().unstack()\n",
        "\n",
        "#calculation/logic\n",
        "total_counts = category_price_counts.sum(axis=1)\n",
        "category_price_ratios = category_price_counts.div(total_counts, axis=0) * 100\n",
        "\n",
        "# create a stacked bar chart\n",
        "category_price_ratios.plot(kind='bar', stacked=True)\n",
        "plt.title('Percentage of Free and Paid Apps by Category')\n",
        "plt.xlabel('Category')\n",
        "plt.ylabel('Percentage')\n",
        "plt.legend(title='Price Type')\n",
        "plt.show()\n"
      ],
      "metadata": {
        "id": "t6GMdE67YoAp"
      },
      "execution_count": null,
      "outputs": []
    },
    {
      "cell_type": "markdown",
      "source": [
        "##### 1. Why did you pick the specific chart?"
      ],
      "metadata": {
        "id": "fge-S5ZAYoAp"
      }
    },
    {
      "cell_type": "markdown",
      "source": [
        "A stacked bar plot shows the percentage for all app categories by type(free and paid)"
      ],
      "metadata": {
        "id": "5dBItgRVYoAp"
      }
    },
    {
      "cell_type": "markdown",
      "source": [
        "##### 2. What is/are the insight(s) found from the chart?"
      ],
      "metadata": {
        "id": "85gYPyotYoAp"
      }
    },
    {
      "cell_type": "markdown",
      "source": [
        "We se that the percentage of paid apps in personelization and Medical are more."
      ],
      "metadata": {
        "id": "4jstXR6OYoAp"
      }
    },
    {
      "cell_type": "markdown",
      "source": [
        "##### 3. Will the gained insights help creating a positive business impact?\n",
        "Are there any insights that lead to negative growth? Justify with specific reason."
      ],
      "metadata": {
        "id": "RoGjAbkUYoAp"
      }
    },
    {
      "cell_type": "markdown",
      "source": [
        "We can infer the ratio in percent wise distrubution at category level in the above plot, we see that the percent of Personalization and Medical app have more number of paid apps compare to other categories"
      ],
      "metadata": {
        "id": "zfJ8IqMcYoAp"
      }
    },
    {
      "cell_type": "markdown",
      "source": [
        "### Chart - 4\n",
        "Number of Apps Per Category count plot and Pie plot(pie code is commented)"
      ],
      "metadata": {
        "id": "4Of9eVA-YrdM"
      }
    },
    {
      "cell_type": "code",
      "source": [
        "# Chart - 4 visualization code\n",
        "# Get the number of apps for each category using Count Plot\n",
        "\n",
        "sns.set_style('darkgrid')\n",
        "plt.figure(figsize=(20, 5))\n",
        "\n",
        "sns.countplot(x='Category', data=df)\n",
        "\n",
        "plt.title('Number of Apps Per Category', fontsize = 25)\n",
        "plt.xticks(rotation=90)\n",
        "plt.ylabel('Number of Apps')\n",
        "\n",
        "\n",
        "####Percentage of apps belonging to each category in the playstore using Pie plot\n",
        "# plt.figure(figsize=(5,5))\n",
        "\n",
        "# plt.pie(df.Category.value_counts(), labels=df.Category.value_counts().index, autopct='%1.2f%%')\n",
        "# my_circle = plt.Circle( (0,0), 0.050, color='white')\n",
        "\n",
        "# plt.title('% of apps share in each Category', fontsize = 25)"
      ],
      "metadata": {
        "id": "irlUoxc8YrdO"
      },
      "execution_count": null,
      "outputs": []
    },
    {
      "cell_type": "markdown",
      "source": [
        "##### 1. Why did you pick the specific chart?"
      ],
      "metadata": {
        "id": "iky9q4vBYrdO"
      }
    },
    {
      "cell_type": "markdown",
      "source": [
        "We have plotted 2 types of chart to get the understanding for better, seaborn count plot and Pie(the commented code) explain better way to demonstrate the share of the number of apps accross various categories"
      ],
      "metadata": {
        "id": "aJRCwT6DYrdO"
      }
    },
    {
      "cell_type": "markdown",
      "source": [
        "##### 2. What is/are the insight(s) found from the chart?"
      ],
      "metadata": {
        "id": "F6T5p64dYrdO"
      }
    },
    {
      "cell_type": "markdown",
      "source": [
        "We find that the number of apps in Family category is 18.5% followed by Games with 9.94% and tools app with 8.55%"
      ],
      "metadata": {
        "id": "Xx8WAJvtYrdO"
      }
    },
    {
      "cell_type": "markdown",
      "source": [
        "##### 3. Will the gained insights help creating a positive business impact?\n",
        "Are there any insights that lead to negative growth? Justify with specific reason."
      ],
      "metadata": {
        "id": "y-Ehk30pYrdP"
      }
    },
    {
      "cell_type": "markdown",
      "source": [
        "We see that there are many apps in family, games and tools category, this plot can help us to understand the market size of the category in which we are trying to make our new app"
      ],
      "metadata": {
        "id": "jLNxxz7MYrdP"
      }
    },
    {
      "cell_type": "markdown",
      "source": [
        "### Chart - 5\n",
        "Total app installs in each category"
      ],
      "metadata": {
        "id": "bamQiAODYuh1"
      }
    },
    {
      "cell_type": "code",
      "source": [
        "#  Chart - 5 visualization code\n",
        "Max_Installs = df.groupby(['Category'])['Installs'].sum().sort_values()\n",
        "\n",
        "#plotting\n",
        "Max_Installs.plot.barh(figsize=(20,10), color = 'c', )\n",
        "plt.ylabel('App Categories', fontsize = 15)\n",
        "plt.xlabel('Mean app Installs', fontsize = 15)\n",
        "plt.xticks()\n",
        "plt.title('Total app installs in each category', fontsize = 20)"
      ],
      "metadata": {
        "id": "TIJwrbroYuh3"
      },
      "execution_count": null,
      "outputs": []
    },
    {
      "cell_type": "markdown",
      "source": [
        "##### 1. Why did you pick the specific chart?"
      ],
      "metadata": {
        "id": "QHF8YVU7Yuh3"
      }
    },
    {
      "cell_type": "markdown",
      "source": [
        "A horizontal bar plot gives us a clear pitcure of the number of installs with respect to category."
      ],
      "metadata": {
        "id": "dcxuIMRPYuh3"
      }
    },
    {
      "cell_type": "markdown",
      "source": [
        "##### 2. What is/are the insight(s) found from the chart?"
      ],
      "metadata": {
        "id": "GwzvFGzlYuh3"
      }
    },
    {
      "cell_type": "markdown",
      "source": [
        "We see that the maximum installs are for the gaming category and we followed by communication and tools."
      ],
      "metadata": {
        "id": "uyqkiB8YYuh3"
      }
    },
    {
      "cell_type": "markdown",
      "source": [
        "##### 3. Will the gained insights help creating a positive business impact?\n",
        "Are there any insights that lead to negative growth? Justify with specific reason."
      ],
      "metadata": {
        "id": "qYpmQ266Yuh3"
      }
    },
    {
      "cell_type": "markdown",
      "source": [
        "It is observed that people tend to be more inclined toward the Gaming app and communication"
      ],
      "metadata": {
        "id": "_WtzZ_hCYuh4"
      }
    },
    {
      "cell_type": "markdown",
      "source": [
        "### Chart - 6\n",
        "Content rating of the apps for various group of people"
      ],
      "metadata": {
        "id": "OH-pJp9IphqM"
      }
    },
    {
      "cell_type": "code",
      "source": [
        "# Chart - 6 visualization code\n",
        " # Content rating of the apps for diff age group of people\n",
        "data = df['Content Rating'].value_counts()\n",
        "labels = ['Everyone', 'Teen', 'Everyone 10+', 'Mature 17+','Adults only 18+', 'Unrated']\n",
        "\n",
        "#create pie chart\n",
        "plt.figure(figsize=(6,6))\n",
        "explode=(0,0.1,0.1,0.1,0.0,1.3)\n",
        "color = ['C4', 'r', 'c', 'g', 'm', 'k']\n",
        "plt.pie(data, labels = labels, colors = color, autopct='%.2f%%',explode=explode,textprops={'fontsize': 8})\n",
        "plt.title('Content Rating')\n",
        "# plt.legend()"
      ],
      "metadata": {
        "id": "kuRf4wtuphqN"
      },
      "execution_count": null,
      "outputs": []
    },
    {
      "cell_type": "markdown",
      "source": [
        "##### 1. Why did you pick the specific chart?"
      ],
      "metadata": {
        "id": "bbFf2-_FphqN"
      }
    },
    {
      "cell_type": "markdown",
      "source": [
        "Pie plots are usually best for sharing visually distribution of data"
      ],
      "metadata": {
        "id": "loh7H2nzphqN"
      }
    },
    {
      "cell_type": "markdown",
      "source": [
        "##### 2. What is/are the insight(s) found from the chart?"
      ],
      "metadata": {
        "id": "_ouA3fa0phqN"
      }
    },
    {
      "cell_type": "markdown",
      "source": [
        "We found that most of the apps are open to be reviewed by Everyone."
      ],
      "metadata": {
        "id": "VECbqPI7phqN"
      }
    },
    {
      "cell_type": "markdown",
      "source": [
        "##### 3. Will the gained insights help creating a positive business impact?\n",
        "Are there any insights that lead to negative growth? Justify with specific reason."
      ],
      "metadata": {
        "id": "Seke61FWphqN"
      }
    },
    {
      "cell_type": "markdown",
      "source": [
        "When we see correlation between app installs and review we see that the correlation is around 0.61, which is a good to have.\n",
        "It is recommended to have reviews open to everyone to gain more installs"
      ],
      "metadata": {
        "id": "DW4_bGpfphqN"
      }
    },
    {
      "cell_type": "markdown",
      "source": [
        "### Chart - 7\n",
        "Paid app counts with respect to price (excluding free apps)"
      ],
      "metadata": {
        "id": "PIIx-8_IphqN"
      }
    },
    {
      "cell_type": "code",
      "source": [
        "# Chart - 7 visualization code\n",
        "#the plot shows the paid app counts with respect to price excluding free apps\n",
        "\n",
        "free_app_value = 0\n",
        "plt.rcParams['figure.figsize'] = (20, 5)\n",
        "df_without_free_apps = df['Price'] != free_app_value\n",
        "sns.countplot(data=df[df_without_free_apps], x='Price')\n",
        "\n",
        "plt.xticks(rotation=90)\n",
        "plt.title('price wise Paid app counts')\n",
        "plt.xlabel('Price')\n",
        "plt.ylabel('Count')\n",
        "plt.show()"
      ],
      "metadata": {
        "id": "lqAIGUfyphqO"
      },
      "execution_count": null,
      "outputs": []
    },
    {
      "cell_type": "markdown",
      "source": [
        "##### 1. Why did you pick the specific chart?"
      ],
      "metadata": {
        "id": "t27r6nlMphqO"
      }
    },
    {
      "cell_type": "markdown",
      "source": [
        "A seaborn count plot shows counts of the app with respect to various values, here we wanted to know the counts of apps with price not equal to 0, so we used the above chart"
      ],
      "metadata": {
        "id": "iv6ro40sphqO"
      }
    },
    {
      "cell_type": "markdown",
      "source": [
        "##### 2. What is/are the insight(s) found from the chart?"
      ],
      "metadata": {
        "id": "r2jJGEOYphqO"
      }
    },
    {
      "cell_type": "markdown",
      "source": [
        "We see that max app belong to price = 0.99 followed by 2.99"
      ],
      "metadata": {
        "id": "Po6ZPi4hphqO"
      }
    },
    {
      "cell_type": "markdown",
      "source": [
        "##### 3. Will the gained insights help creating a positive business impact?\n",
        "Are there any insights that lead to negative growth? Justify with specific reason."
      ],
      "metadata": {
        "id": "b0JNsNcRphqO"
      }
    },
    {
      "cell_type": "markdown",
      "source": [
        "It is observed that there many apps are released with amount = 0.99 and 2.99\n",
        "\n",
        "\n",
        "It would be a good practice if we can make sure the app falls in this price range to make sure the apps are affordable."
      ],
      "metadata": {
        "id": "xvSq8iUTphqO"
      }
    },
    {
      "cell_type": "markdown",
      "source": [
        "### Chart - 8\n",
        "Ratings wrt Category (Box plot)"
      ],
      "metadata": {
        "id": "BZR9WyysphqO"
      }
    },
    {
      "cell_type": "code",
      "source": [
        "# Chart - 8 visualization code\n",
        "plt.xticks(rotation=90)\n",
        "plt.rcParams['figure.figsize'] = (15, 5)\n",
        "\n",
        "#Plot Code\n",
        "sns.boxplot(data=df, x=\"Category\", y=\"Rating\")\n",
        "\n",
        "#Describing details for the plots\n",
        "plt.title('Ratings with respect to various categories')\n",
        "plt.xlabel('Category')\n",
        "plt.ylabel('Rating')\n"
      ],
      "metadata": {
        "id": "TdPTWpAVphqO"
      },
      "execution_count": null,
      "outputs": []
    },
    {
      "cell_type": "markdown",
      "source": [
        "##### 1. Why did you pick the specific chart?"
      ],
      "metadata": {
        "id": "jj7wYXLtphqO"
      }
    },
    {
      "cell_type": "markdown",
      "source": [
        "Boxplots provides a concise summary of measures such as the median, quartiles, and outliers.\n",
        "\n",
        "This makes it easy to compare multiple datasets quickly and identify any differences or similarities."
      ],
      "metadata": {
        "id": "Ob8u6rCTphqO"
      }
    },
    {
      "cell_type": "markdown",
      "source": [
        "##### 2. What is/are the insight(s) found from the chart?"
      ],
      "metadata": {
        "id": "eZrbJ2SmphqO"
      }
    },
    {
      "cell_type": "markdown",
      "source": [
        "Communication and events have their medians outside the box, which means the ratings recieved are not skewed\n",
        "\n",
        "There are many outliers in various category"
      ],
      "metadata": {
        "id": "mZtgC_hjphqO"
      }
    },
    {
      "cell_type": "markdown",
      "source": [
        "##### 3. Will the gained insights help creating a positive business impact?\n",
        "Are there any insights that lead to negative growth? Justify with specific reason."
      ],
      "metadata": {
        "id": "rFu4xreNphqO"
      }
    },
    {
      "cell_type": "markdown",
      "source": [
        "the outliers below the boxes show that various apps in category are having a bad reviews so there is room for placing our app with better features in the categories with more wiskers in box plot below the boxes."
      ],
      "metadata": {
        "id": "ey_0qi68phqO"
      }
    },
    {
      "cell_type": "markdown",
      "source": [
        "### Chart - 9\n",
        "Distribution of ratings across various apps"
      ],
      "metadata": {
        "id": "YJ55k-q6phqO"
      }
    },
    {
      "cell_type": "code",
      "source": [
        "# Chart - 9 visualization code\n",
        "plt.rcParams['figure.figsize'] = (20, 5)\n",
        "sns.histplot(df, x='Rating', kde=True)\n",
        "\n",
        "#Describing details for the plots\n",
        "plt.title('Spread of various ratings across all the apps')\n",
        "plt.xlabel('Rating')\n",
        "plt.ylabel('Count')\n",
        "\n"
      ],
      "metadata": {
        "id": "B2aS4O1ophqO"
      },
      "execution_count": null,
      "outputs": []
    },
    {
      "cell_type": "markdown",
      "source": [
        "##### 1. Why did you pick the specific chart?"
      ],
      "metadata": {
        "id": "gCFgpxoyphqP"
      }
    },
    {
      "cell_type": "markdown",
      "source": [
        "Hist plots are better to analyze distribution of numric values"
      ],
      "metadata": {
        "id": "TVxDimi2phqP"
      }
    },
    {
      "cell_type": "markdown",
      "source": [
        "##### 2. What is/are the insight(s) found from the chart?"
      ],
      "metadata": {
        "id": "OVtJsKN_phqQ"
      }
    },
    {
      "cell_type": "markdown",
      "source": [
        "we see that most of the apps have a rating of 4.25"
      ],
      "metadata": {
        "id": "ngGi97qjphqQ"
      }
    },
    {
      "cell_type": "markdown",
      "source": [
        "##### 3. Will the gained insights help creating a positive business impact?\n",
        "Are there any insights that lead to negative growth? Justify with specific reason."
      ],
      "metadata": {
        "id": "lssrdh5qphqQ"
      }
    },
    {
      "cell_type": "markdown",
      "source": [
        "since most of the apps have 4.2 rating, there is an opportunity to have a better app that could fit the market needs"
      ],
      "metadata": {
        "id": "tBpY5ekJphqQ"
      }
    },
    {
      "cell_type": "markdown",
      "source": [
        "### Chart - 10\n",
        "sentiments analysis"
      ],
      "metadata": {
        "id": "U2RJ9gkRphqQ"
      }
    },
    {
      "cell_type": "code",
      "source": [
        "# Chart - 10 visualization code\n",
        "\n",
        "#importing the user Reviews CSV as user_df\n",
        "user_df = pd.read_csv(dir_path + 'User Reviews.csv')\n",
        "\n",
        "# grouping and plotting sentinments\n",
        "sentiment_group = user_df.groupby('Sentiment')\n",
        "s = sentiment_group['Sentiment'].count()\n",
        "#setting plot size\n",
        "plt.figure(figsize=(5,5))\n",
        "\n",
        "# plotting pie\n",
        "plt.pie(s, labels = s.index,  startangle = 90,autopct='%1.2f%%')\n",
        "\n",
        "#Describing details for the plots\n",
        "plt.title('Share of various sentiments')\n",
        "plt.show()"
      ],
      "metadata": {
        "id": "GM7a4YP4phqQ"
      },
      "execution_count": null,
      "outputs": []
    },
    {
      "cell_type": "markdown",
      "source": [
        "##### 1. Why did you pick the specific chart?"
      ],
      "metadata": {
        "id": "1M8mcRywphqQ"
      }
    },
    {
      "cell_type": "markdown",
      "source": [
        "pie charts are better to demonstrate the proportions of the values"
      ],
      "metadata": {
        "id": "8agQvks0phqQ"
      }
    },
    {
      "cell_type": "markdown",
      "source": [
        "##### 2. What is/are the insight(s) found from the chart?"
      ],
      "metadata": {
        "id": "tgIPom80phqQ"
      }
    },
    {
      "cell_type": "markdown",
      "source": [
        "We see that there are many apps that are having positive sentiments respect to various apps"
      ],
      "metadata": {
        "id": "Qp13pnNzphqQ"
      }
    },
    {
      "cell_type": "markdown",
      "source": [
        "##### 3. Will the gained insights help creating a positive business impact?\n",
        "Are there any insights that lead to negative growth? Justify with specific reason."
      ],
      "metadata": {
        "id": "JMzcOPDDphqR"
      }
    },
    {
      "cell_type": "markdown",
      "source": [
        "We observe that most of the apps that received translated reviews are positive."
      ],
      "metadata": {
        "id": "R4Ka1PC2phqR"
      }
    },
    {
      "cell_type": "markdown",
      "source": [
        "### Chart - 11\n",
        "Listing top 10 apps based on the recieved translation"
      ],
      "metadata": {
        "id": "x-EpHcCOp1ci"
      }
    },
    {
      "cell_type": "code",
      "source": [
        "# Chart - 11 visualization code\n",
        "merge_df =pd.merge(df,user_df,how='inner',on='App')\n",
        "App_Cat_df = merge_df.groupby(['App','Category'])['Translated_Review'].count().reset_index()\n",
        "App_Cat_df = pd.DataFrame(App_Cat_df)\n",
        "App_Cat_df = App_Cat_df.sort_values(by=['Translated_Review'], ascending=False)\n",
        "App_Cat_df.head(10)"
      ],
      "metadata": {
        "id": "mAQTIvtqp1cj"
      },
      "execution_count": null,
      "outputs": []
    },
    {
      "cell_type": "markdown",
      "source": [
        "##### 1. Why did you pick the specific chart?"
      ],
      "metadata": {
        "id": "X_VqEhTip1ck"
      }
    },
    {
      "cell_type": "markdown",
      "source": [
        "Here we are viewing the apps that recieved max translated reviews."
      ],
      "metadata": {
        "id": "-vsMzt_np1ck"
      }
    },
    {
      "cell_type": "markdown",
      "source": [
        "##### 2. What is/are the insight(s) found from the chart?"
      ],
      "metadata": {
        "id": "8zGJKyg5p1ck"
      }
    },
    {
      "cell_type": "markdown",
      "source": [
        "we see that mostly the translated reviews are recieved by the Game category"
      ],
      "metadata": {
        "id": "ZYdMsrqVp1ck"
      }
    },
    {
      "cell_type": "markdown",
      "source": [
        "##### 3. Will the gained insights help creating a positive business impact?\n",
        "Are there any insights that lead to negative growth? Justify with specific reason."
      ],
      "metadata": {
        "id": "PVzmfK_Ep1ck"
      }
    },
    {
      "cell_type": "markdown",
      "source": [
        "Game category has most number of translated reviews."
      ],
      "metadata": {
        "id": "druuKYZpp1ck"
      }
    },
    {
      "cell_type": "markdown",
      "source": [
        "### Chart - 12\n",
        "CountPlot"
      ],
      "metadata": {
        "id": "n3dbpmDWp1ck"
      }
    },
    {
      "cell_type": "code",
      "source": [
        "# Chart - 12 visualization\n",
        "plt.figure(figsize=(20, 5))\n",
        "\n",
        "#plotting\n",
        "sns.countplot(data = App_Cat_df, x = App_Cat_df['Category'])\n",
        "\n",
        "# Setting attributes to infer the plot\n",
        "plt.title('number of translated reviews by category')\n",
        "plt.ylabel('Number of Translated Review')\n",
        "plt.xlabel('Category')\n",
        "plt.xticks(rotation=90)\n",
        "plt.show()"
      ],
      "metadata": {
        "id": "bwevp1tKp1ck"
      },
      "execution_count": null,
      "outputs": []
    },
    {
      "cell_type": "markdown",
      "source": [
        "##### 1. Why did you pick the specific chart?"
      ],
      "metadata": {
        "id": "ylSl6qgtp1ck"
      }
    },
    {
      "cell_type": "markdown",
      "source": [
        "A count plot shows better repersentation of the counts with respect to their categories"
      ],
      "metadata": {
        "id": "m2xqNkiQp1ck"
      }
    },
    {
      "cell_type": "markdown",
      "source": [
        "##### 2. What is/are the insight(s) found from the chart?"
      ],
      "metadata": {
        "id": "ZWILFDl5p1ck"
      }
    },
    {
      "cell_type": "markdown",
      "source": [
        "We found that the games have recieved highest number of counts followed by Family, however the comics weather and events apps have recieved less reviews in the category."
      ],
      "metadata": {
        "id": "x-lUsV2mp1ck"
      }
    },
    {
      "cell_type": "markdown",
      "source": [
        "##### 3. Will the gained insights help creating a positive business impact?\n",
        "Are there any insights that lead to negative growth? Justify with specific reason."
      ],
      "metadata": {
        "id": "M7G43BXep1ck"
      }
    },
    {
      "cell_type": "markdown",
      "source": [
        "Family and games category have recieved more number of translated reviews"
      ],
      "metadata": {
        "id": "5wwDJXsLp1cl"
      }
    },
    {
      "cell_type": "markdown",
      "source": [
        "### Chart - 13\n",
        "Sentiment Visualization for GAME, FAMILY, SOCIAL, LIBRARIES AND DEMO"
      ],
      "metadata": {
        "id": "Ag9LCva-p1cl"
      }
    },
    {
      "cell_type": "code",
      "source": [
        "df.Category.unique()"
      ],
      "metadata": {
        "id": "XLWHMTMI-JJh"
      },
      "execution_count": null,
      "outputs": []
    },
    {
      "cell_type": "code",
      "source": [
        "# Chart - 13 visualization code\n",
        "x=['GAME','FAMILY','SOCIAL', 'LIBRARIES AND DEMO']\n",
        "#we can choose any category and include in the x variable\n",
        "\n",
        "fig, axes = plt.subplots(1, len(x), figsize=(20, 5))\n",
        "\n",
        "for i, category in enumerate(x):\n",
        "    temp_df = merge_df[merge_df['Category'] == category]\n",
        "    sns.countplot(data=temp_df, x='Sentiment', ax=axes[i])\n",
        "    axes[i].set_title(category)\n",
        "\n",
        "fig.suptitle('Sentiment Analysis by Category')\n",
        "\n",
        "# Show the plot\n",
        "plt.show()"
      ],
      "metadata": {
        "id": "EUfxeq9-p1cl"
      },
      "execution_count": null,
      "outputs": []
    },
    {
      "cell_type": "code",
      "source": [
        "# # Chart - 13 visualization code (old code)\n",
        "# x=['GAME','FAMILY','COMMUNICATION', 'LIBRARIES AND DEMO']\n",
        "# x = df.Category.unique()   #if we uncomment this all the category plots will be plotted in loop.\n",
        "# for i in x:\n",
        "\n",
        "#     temp_df = merge_df[merge_df['Category']==i]\n",
        "\n",
        "# # Compare in positive and negetive review\n",
        "#     plt.figure(figsize=(5, 5))\n",
        "#     sns.countplot(data = temp_df, x = temp_df['Sentiment'])\n",
        "#     plt.title(f'{i} app Sentiment')\n",
        "#     plt.ylabel('Number of Translated_Review')\n",
        "#     # plt.show()"
      ],
      "metadata": {
        "id": "PLNg6AYD_gFa"
      },
      "execution_count": null,
      "outputs": []
    },
    {
      "cell_type": "markdown",
      "source": [
        "##### 1. Why did you pick the specific chart?"
      ],
      "metadata": {
        "id": "E6MkPsBcp1cl"
      }
    },
    {
      "cell_type": "markdown",
      "source": [
        "Count plots are best suited to plot the counts of various rows and plot. This helps in Visually intrepreting the various counts"
      ],
      "metadata": {
        "id": "V22bRsFWp1cl"
      }
    },
    {
      "cell_type": "markdown",
      "source": [
        "##### 2. What is/are the insight(s) found from the chart?"
      ],
      "metadata": {
        "id": "2cELzS2fp1cl"
      }
    },
    {
      "cell_type": "markdown",
      "source": [
        "GAME, FAMILY, SOCIAL, LIBRARIES AND DEMO we see that mostly the apps have positive sentiments towards the given categories"
      ],
      "metadata": {
        "id": "ozQPc2_Ip1cl"
      }
    },
    {
      "cell_type": "markdown",
      "source": [
        "##### 3. Will the gained insights help creating a positive business impact?\n",
        "Are there any insights that lead to negative growth? Justify with specific reason."
      ],
      "metadata": {
        "id": "3MPXvC8up1cl"
      }
    },
    {
      "cell_type": "markdown",
      "source": [
        "the above charts show that most of the apps in category GAME, FAMILY, SOCIAL, LIBRARIES AND DEMO are having a positive sentiment\n",
        "\n",
        "We can infer that social app category has approximatly 50% of negative sentiments"
      ],
      "metadata": {
        "id": "GL8l1tdLp1cl"
      }
    },
    {
      "cell_type": "markdown",
      "source": [
        "#### Chart - 14 - Correlation Heatmap"
      ],
      "metadata": {
        "id": "NC_X3p0fY2L0"
      }
    },
    {
      "cell_type": "code",
      "source": [
        "# Correlation Heatmap visualization code\n",
        "# Chart - 4 visualization code\n",
        "corr_matrix = df.corr()\n",
        "\n",
        "# Plot heatmap\n",
        "sns.heatmap(corr_matrix, annot=True, cmap='inferno')\n",
        "\n",
        "#setting labels to infer the plot\n",
        "plt.title('Correlation Matrix heatmap')\n",
        "plt.ylabel('Feature/Property')\n",
        "plt.xlabel('Feature/Property')"
      ],
      "metadata": {
        "id": "xyC9zolEZNRQ"
      },
      "execution_count": null,
      "outputs": []
    },
    {
      "cell_type": "markdown",
      "source": [
        "##### 1. Why did you pick the specific chart?"
      ],
      "metadata": {
        "id": "UV0SzAkaZNRQ"
      }
    },
    {
      "cell_type": "markdown",
      "source": [
        "the best way to plot a correlation matrix is by having a heatmap useing the seaborn Library.\n",
        "> The values in the matrix range from -1 to 1, and represent the strength and direction of the correlation between two variables. A correlation coefficient of -1 indicates a perfect negative correlation, a coefficient of 0 indicates no correlation, and a coefficient of 1 indicates a perfect positive correlation."
      ],
      "metadata": {
        "id": "DVPuT8LYZNRQ"
      }
    },
    {
      "cell_type": "markdown",
      "source": [
        "##### 2. What is/are the insight(s) found from the chart?"
      ],
      "metadata": {
        "id": "YPEH6qLeZNRQ"
      }
    },
    {
      "cell_type": "markdown",
      "source": [
        "We see that the correlation between Installs and Price is 0.63 which is good, It means that when there are more reviews on any app the more people tend to install the app. so its a better idea to get reviews on the app.\n",
        "\n",
        "This gained insights are very helpfull to grow a business as we can add the feature to get reviews on the app and this shall help the app to grow."
      ],
      "metadata": {
        "id": "bfSqtnDqZNRR"
      }
    },
    {
      "cell_type": "markdown",
      "source": [
        "#### Chart - 15 - Pair Plot"
      ],
      "metadata": {
        "id": "q29F0dvdveiT"
      }
    },
    {
      "cell_type": "code",
      "source": [
        "# Pair Plot visualization code\n",
        "sns.pairplot(df, diag_kind=\"kde\", kind = 'reg', hue = 'Type')\n",
        "\n",
        "#setting labels to infer the plot\n",
        "plt.title('Pair Plot')\n",
        "plt.ylabel('Feature/Property')\n",
        "plt.xlabel('Feature/Property')\n"
      ],
      "metadata": {
        "id": "o58-TEIhveiU"
      },
      "execution_count": null,
      "outputs": []
    },
    {
      "cell_type": "markdown",
      "source": [
        "##### 1. Why did you pick the specific chart?"
      ],
      "metadata": {
        "id": "EXh0U9oCveiU"
      }
    },
    {
      "cell_type": "markdown",
      "source": [
        "Pair plots are used to show relationship between various variables\n",
        "\n",
        "Pair plots can also help us explore the distribution of variables in your dataset."
      ],
      "metadata": {
        "id": "eMmPjTByveiU"
      }
    },
    {
      "cell_type": "markdown",
      "source": [
        "##### 2. What is/are the insight(s) found from the chart?"
      ],
      "metadata": {
        "id": "22aHeOlLveiV"
      }
    },
    {
      "cell_type": "markdown",
      "source": [
        "we find that there is a relation between the reviews and installs, the max installs the max reviews we get, the regression lines is liner and increases as (x=y approximatly)\n",
        "\n",
        "The installs doesn't grow as the price increases.\n",
        "\n",
        "size and installs does not have relation.\n",
        "\n",
        "the diagonal graphs show the kde plotted wrt the own feature, it is noted that the diagonal plots doesnot follow the scale."
      ],
      "metadata": {
        "id": "uPQ8RGwHveiV"
      }
    },
    {
      "cell_type": "markdown",
      "source": [
        "### Chart - 16\n",
        "Segmentation of apps by size as extra large, large, medieum and lite size"
      ],
      "metadata": {
        "id": "Vj8NambUB--x"
      }
    },
    {
      "cell_type": "code",
      "source": [
        "# Chart - 16 visualization code\n",
        "min_size = df.Size.min()\n",
        "max_size = df.Size.max()\n",
        "\n",
        "def group_by_size(val):\n",
        "  ''''\n",
        "  This function help to categories the size from 101304 to 0\n",
        "  as Extra Large App, Large App, Medium Size App and Lite Size App\n",
        "  '''\n",
        "  if val>=((max_size/4)*3):\n",
        "    return 'Extra Large App'\n",
        "  elif val >= ((max_size/4)*2)  and val<((max_size/4)*3):\n",
        "    return 'Large App'\n",
        "  elif val >= (max_size/4) and val<((max_size/4)*2):\n",
        "    return 'Medium Size App'\n",
        "  else:\n",
        "    return 'Lite Size App'\n",
        "\n",
        "# print(min_size)\n",
        "# print(max_size)\n"
      ],
      "metadata": {
        "id": "Uxlzm6qUCDol"
      },
      "execution_count": null,
      "outputs": []
    },
    {
      "cell_type": "code",
      "source": [
        "df['Size Groups'] = df['Size'].apply(group_by_size)"
      ],
      "metadata": {
        "id": "TbDzqnXmbK9I"
      },
      "execution_count": null,
      "outputs": []
    },
    {
      "cell_type": "code",
      "source": [
        "plt.rcParams['figure.figsize'] = (20, 5)\n",
        "size_group_df = df.groupby(['Size Groups'])['Installs'].sum()\n",
        "size_group_df.plot.pie(autopct='%1.2f%%')\n",
        "\n",
        "#setting labels to infer the plot\n",
        "plt.title('share of apps based on basis of size categories defined by us')"
      ],
      "metadata": {
        "id": "igQ7GUsfbXFy"
      },
      "execution_count": null,
      "outputs": []
    },
    {
      "cell_type": "markdown",
      "source": [
        "##### 1. Why did you pick the specific chart?"
      ],
      "metadata": {
        "id": "Ik2RiGt4c77Z"
      }
    },
    {
      "cell_type": "markdown",
      "source": [
        "Pie plot visually repersents better way to undersatnd the % coverd by variious app categories"
      ],
      "metadata": {
        "id": "4k0mDdhNc4XM"
      }
    },
    {
      "cell_type": "markdown",
      "source": [
        "##### 2. What is/are the insight(s) found from the chart?"
      ],
      "metadata": {
        "id": "ECGbO-oSdBPY"
      }
    },
    {
      "cell_type": "markdown",
      "source": [
        "we infer that most of the people prefer to have lite size apps i.e 75% approx where as the other apps are marginally spread.(may depend on the use case and their increased functionality)\n",
        "extra large apps are of share 6% while medium and large apps share 9.5% of the total market.(as of 2018 data)"
      ],
      "metadata": {
        "id": "zgM461EfdLbx"
      }
    },
    {
      "cell_type": "markdown",
      "source": [
        "### Chart - 17\n",
        "Segmentation of apps by size with respect to categories as extra large, large, medieum and lite size"
      ],
      "metadata": {
        "id": "Gp49HnCfdRY2"
      }
    },
    {
      "cell_type": "code",
      "source": [
        "# Chart - 17 visualization code\n",
        "plt.rcParams['figure.figsize'] = (20, 5)\n",
        "size_groupby_Categories_df = df.groupby(['Category', 'Size Groups'])['Installs'].sum().unstack()\n",
        "\n",
        "size_groupby_Categories_df.plot.bar()\n",
        "plt.title('segmentation of app install counts with respect to categories')\n",
        "plt.xlabel('Apps By Categories')\n",
        "plt.ylabel('Total Installs in Billions')"
      ],
      "metadata": {
        "id": "PiQb0_Asbv3-"
      },
      "execution_count": null,
      "outputs": []
    },
    {
      "cell_type": "markdown",
      "source": [
        "##### 1. Why did you pick the specific chart?"
      ],
      "metadata": {
        "id": "46R54vdsd_wK"
      }
    },
    {
      "cell_type": "markdown",
      "source": [
        "Bar plot is best suited to visualize the numbers against a categorical values."
      ],
      "metadata": {
        "id": "hbcrzxrreAzK"
      }
    },
    {
      "cell_type": "markdown",
      "source": [
        "##### 2. What is/are the insight(s) found from the chart?"
      ],
      "metadata": {
        "id": "SIb3qKJkeZ3X"
      }
    },
    {
      "cell_type": "markdown",
      "source": [
        "We see that most of the gaming apps are of all the size category and comunication apps are preferred to be made of lite size.\n",
        "\n",
        "also looking at trends we see most of the apps are tried to be made lite as it would lead to be a better option."
      ],
      "metadata": {
        "id": "LSdYCJOmeN7n"
      }
    },
    {
      "cell_type": "markdown",
      "source": [
        "### Chart - 18\n",
        "Apps with the last updates"
      ],
      "metadata": {
        "id": "HS_spJpbegWI"
      }
    },
    {
      "cell_type": "code",
      "source": [
        "def get_year(x):\n",
        "  ''' This functions extracts year from the object and returns the same'''\n",
        "  x = x[-4:]\n",
        "  return eval(x)"
      ],
      "metadata": {
        "id": "oSx1-agqeoaH"
      },
      "execution_count": null,
      "outputs": []
    },
    {
      "cell_type": "code",
      "source": [
        "df['year'] = df['Last Updated'].apply(get_year)"
      ],
      "metadata": {
        "id": "VJYwLtaSe03O"
      },
      "execution_count": null,
      "outputs": []
    },
    {
      "cell_type": "code",
      "source": [
        "#distribution of the latest apps that are updated\n",
        "sorted_by_year = df.sort_values(by = 'year', ascending = False)\n",
        "sns.histplot(sorted_by_year, x='year', kde=True)"
      ],
      "metadata": {
        "id": "mgCyjtk6e9zu"
      },
      "execution_count": null,
      "outputs": []
    },
    {
      "cell_type": "markdown",
      "source": [
        "##### 1. Why did you pick the specific chart?"
      ],
      "metadata": {
        "id": "DkFhULeEfmrX"
      }
    },
    {
      "cell_type": "markdown",
      "source": [
        "A hist plot shows the distribution of values by their count"
      ],
      "metadata": {
        "id": "hzyW2zSXfrib"
      }
    },
    {
      "cell_type": "markdown",
      "source": [
        "##### 2. What is/are the insight(s) found from the chart?"
      ],
      "metadata": {
        "id": "cTTkdQbYfnlJ"
      }
    },
    {
      "cell_type": "markdown",
      "source": [
        "we see that most of the apps are recently updated and some of them have been not updated since a long time.\n",
        "For more detail analysis we can selectily visit the apps with old year of updates and check if the apps are stoped due to losses or closed."
      ],
      "metadata": {
        "id": "axzzWDT_f6Dl"
      }
    },
    {
      "cell_type": "markdown",
      "source": [
        "### Chart - 19\n",
        "Listing top apps with max reviews, size, price, and free apps with highest ratings"
      ],
      "metadata": {
        "id": "eBKifRUFgcWM"
      }
    },
    {
      "cell_type": "code",
      "source": [
        "df.head()"
      ],
      "metadata": {
        "id": "VMbpki46gnJa"
      },
      "execution_count": null,
      "outputs": []
    },
    {
      "cell_type": "code",
      "source": [
        "# # Top five app with max Reviews\n",
        "Max_Reviews = df.sort_values(by='Reviews', ascending=False)\n",
        "\n",
        "# display the names and Reviews in the sorted dataframe\n",
        "print('______________________________________________')\n",
        "print('\\ntop 5 apps with max reviews\\n')\n",
        "print('______________________________________________')\n",
        "\n",
        "print(Max_Reviews[['App', 'Reviews']].head())\n",
        "\n",
        "# # Top five app with max size\n",
        "Max_Size = df.sort_values(by='Size', ascending=False)\n",
        "\n",
        "# display the names and Size in the sorted dataframe\n",
        "print('______________________________________________')\n",
        "print('\\ntop 5 apps with max size\\n')\n",
        "print('______________________________________________')\n",
        "\n",
        "print(Max_Size[['App', 'Size']].head())\n",
        "\n",
        "# # Top five app with max size\n",
        "Max_Installs = df.sort_values(by='Installs', ascending=False)\n",
        "\n",
        "# display the names and Size in the sorted dataframe\n",
        "print('______________________________________________')\n",
        "print('\\ntop 5 apps with max Installs\\n')\n",
        "print('______________________________________________')\n",
        "\n",
        "print(Max_Installs[['App', 'Installs']].head())\n",
        "\n",
        "# # Top five app with max price\n",
        "Max_Price = df.sort_values(by='Price', ascending=False)\n",
        "\n",
        "# display the names and Reviews in the sorted dataframe\n",
        "print('______________________________________________')\n",
        "print('\\ntop 10 apps with max price\\n')\n",
        "print('______________________________________________')\n",
        "print(Max_Price[['App', 'Price']].head(10))\n",
        "\n",
        "\n",
        "#heighest rating for top five free apps and their category\n",
        "df_Free_apps = df[df['Type'] == 'Free']\n",
        "df_Free_apps.Type.unique()\n",
        "Top_5 = df_Free_apps.sort_values(by='Rating', ascending=False)\n",
        "\n",
        "# display the names and Reviews in the sorted dataframe\n",
        "print('______________________________________________')\n",
        "print('\\ntop 5 free apps with highest ratings\\n')\n",
        "print('______________________________________________')\n",
        "print(Top_5[['App', 'Rating', 'Category', 'Type']].head())\n",
        "\n"
      ],
      "metadata": {
        "id": "Vf5_6V0CguuK"
      },
      "execution_count": null,
      "outputs": []
    },
    {
      "cell_type": "markdown",
      "source": [
        "##### 1. Why did you pick the specific chart?"
      ],
      "metadata": {
        "id": "HoQykoKqhQ5T"
      }
    },
    {
      "cell_type": "markdown",
      "source": [
        "We are not using any chart here, we are just listing the various apps. to have an overview of the various apps with respect to some predefined parameters."
      ],
      "metadata": {
        "id": "srMyezKMhWEj"
      }
    },
    {
      "cell_type": "markdown",
      "source": [
        "## **5. Solution to Business Objective**"
      ],
      "metadata": {
        "id": "JcMwzZxoAimU"
      }
    },
    {
      "cell_type": "markdown",
      "source": [
        "#### What do you suggest the client to achieve Business Objective ?\n",
        "Explain Briefly."
      ],
      "metadata": {
        "id": "8G2x9gOozGDZ"
      }
    },
    {
      "cell_type": "markdown",
      "source": [
        "The Google Play Store Apps report provides some useful details regarding the trending of the apps in the play store. As per the graphs visualizations shown above, most of the trending apps (in terms of users' installs) are from the categories like GAME, COMMUNICATION, and TOOL even though the amount of available apps from these categories are twice as much lesser than the category FAMILY but still used most. The trending of these apps are most probably due to their nature of being able to entertain or assist the user. Besides, it also shows a good trend where we can see that developers from these categories are focusing on the quality instead of the quantity of the apps.\n",
        "\n",
        "Other than that, the charts shown above actually implies that most of the apps having good ratings of above 4.0 are mostly confirmed to have high amount of reviews and user installs. The size and price shouldn't reflect that apps with high rating are mostly big in size and pricy as by looking at the graphs they are most probably are due to some minority. Futhermore, most of the apps that are having high amount of reviews are from the categories of SOCIAL, COMMUNICATION and GAME like Facebook, WhatsApp Messenger, Instagram, Messenger – Text and Video Chat for Free, Clash of Clans ,google apps etc.\n",
        "\n",
        "Eventhough apps from the categories like GAME, SOCIAL, COMMUNICATION and TOOL of having the highest amount of installs, rating and reviews are reflecting the current trend of Android users, they are not even appearing as category in the top 5 most expensive apps in the store . As a conclsuion, we learnt that the current trend in the Android market are mostly from these categories which either assisting, communicating or entertaining apps.\n",
        "\n",
        "Some important point:-\n",
        "Average rating of (active) apps on Google Play Store is 4.17.\n",
        "\n",
        "If we see individually app wise the communicatation app like facebook and whatsup get highly reviewed app it shown that people regulary active on that and give there feedback also on that.\n",
        "\n",
        "Medical and Family apps are the most expensive and even extend upto 80$.\n",
        "Users tend to download a given app more if it has been reviewed by a large number of people.\n",
        "\n",
        "More than half users rate Family, Sports and Health & Fitness apps positively. Apps for games and social media get mixed reviews, with 50 percent positive and 50 percent negative responses."
      ],
      "metadata": {
        "id": "pASKb0qOza21"
      }
    },
    {
      "cell_type": "markdown",
      "source": [
        "# **Conclusion**"
      ],
      "metadata": {
        "id": "gCX9965dhzqZ"
      }
    },
    {
      "cell_type": "markdown",
      "source": [
        "In this project of analyzing play store applications, we have worked on several parameters which would help our client to do well in launching their apps on the play store.\n",
        "\n",
        "1. 92.2% of apps are of free type and 7.8% are paid\n",
        "2. The minimum rating recieved in Education is 3.5, followed by Art and Design is 3.4, while the lowest ratings are recieved by Dating, Finance. Game, Tools, Communication, Business, productivity, Medical and family are 1. while the average ratings recieved by these categories are fairly good and above 4.1.\n",
        "3. Ratio of paid and free apps in various categories we see that personalization and medical categories have mor paid apps percentage compare to other categories\n",
        "4. the count of family apps is more compare to the other categories approximalty 1800 apps belong to the Family category where as Game category has around 950 apps\n",
        "5. It is observed that the games have more installs followed by communication and tools\n",
        "6. we found that 81.81% of apps can be rated by Everyone while 10.74% of apps are rated by teens, further the ratings and app usage is narrowed by everyone 10+ and mature 17+ with 4.07 and 3.33% respectively.\n",
        "7. it is found that the max paid apps charge 0.99 dollars followed by 2.99 dollars and 1.99 dollars, this gives us a clue of having an affordable price of app is equally important.\n",
        "8. Education, Beauty, Entertainment, parenting, weather and Maps and Navigation category have ratings distributed uniformly since there are less wiskers outside the box.\n",
        "9. Ther ratings are normally distributed from 1 to 5 where the mean is 4.2 and median is 4.3, there was one outlier which was handled in data wrangling step.\n",
        "10. With user df we found that 64.11% of recieved translated reviews are positive where as 22.10% of apps have negative sentiments and 13.79% of apps have neutral sentiments towards the apps whcih recied the reviews.\n",
        "11. the Game categoy has most number of translated reviews followed by Family(plotted in chart 12 above)\n",
        "12. when checking with sentiments accross various app categories we found that social apps have approximatly 50% of negative sentiments\n",
        "13. We see that the correlation between Installs and Price is 0.63 which is good, It means that when there are more reviews on any app the more people tend to install the app. so its a better idea to get reviews on the app.\n",
        "14. we found that there is a relation between the reviews and installs, the max installs the max reviews we get, the regression lines is liner and increases as (x=y approximatly)\n",
        "15. The installs doesn't grow as the price increases.\n",
        "16. Size and installs does not have relation.\n",
        "17. the diagonal graphs in pair show the kde plotted wrt the own feature, it is noted that the diagonal plots doesnot follow the scale.\n",
        "18. We categorised apps with various size into 4 category, That is Lite size, Medium Size, Large size, and extra large size and found that most of the people prefer to have lite size apps i.e 75% approx where as the other apps are marginally spread.(may depend on the use case and their increased functionality) extra large apps are of share 6% while medium and large apps share 9.5% of the total market.(as of 2018 data)\n",
        "19. We see that most of the gaming apps are of all the size category and comunication apps are preferred to be made of lite size.\n",
        "20. looking at trends we see most of the apps are tried to be made lite as it would lead to be a better option.\n",
        "21. We extracted year of last update and found that most of the apps are recently updated and some of them have been not updated since a long time. For more detail analysis we can selectily visit the apps with old year of updates and check if the apps are stoped due to losses or closed.\n",
        "22. We generated list of top apps with respect to Reviews, size, Installs, Price, top free. (listed in chart 19 section)\n",
        "23. we found that some apps are duplicated with same names but different spelling, It is recommended to filter/get more accurate data. where as updating data with code would not be that easy to filter as there are spelling differences in the app names.(example I am Rich app)"
      ],
      "metadata": {
        "id": "Fjb1IsQkh3yE"
      }
    },
    {
      "cell_type": "markdown",
      "source": [
        "### ***Hurrah! You have successfully completed your EDA Capstone Project !!!***\n"
      ],
      "metadata": {
        "id": "pHQa7rg3jUzA"
      }
    }
  ]
}